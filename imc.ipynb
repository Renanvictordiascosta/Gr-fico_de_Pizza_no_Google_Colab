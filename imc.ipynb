{
  "nbformat": 4,
  "nbformat_minor": 0,
  "metadata": {
    "colab": {
      "name": "Untitled1.ipynb",
      "provenance": [],
      "toc_visible": true,
      "authorship_tag": "ABX9TyNJ3UrR6kRL30w4CWdSDXqe"
    },
    "kernelspec": {
      "name": "python3",
      "display_name": "Python 3"
    },
    "language_info": {
      "name": "python"
    }
  },
  "cells": [
    {
      "cell_type": "code",
      "metadata": {
        "id": "T0gtbc7SIcK-"
      },
      "source": [
        "import pandas as pd\n",
        "\n",
        "dados = pd.read_excel(\"Peso_E_Altura.xlsx\")"
      ],
      "execution_count": 146,
      "outputs": []
    },
    {
      "cell_type": "code",
      "metadata": {
        "id": "TU_x_gRKvNNq"
      },
      "source": [
        "lista_altura = []\n",
        "\n",
        "lista_peso = []\n",
        "\n",
        "imc = []\n",
        "\n",
        "receptor_porcentagem = []\n",
        "\n",
        "situacao_corpo = [\"Magreza\", \"Normal\", \"Sobrepeso\", \"Obesidade\"]\n",
        "\n",
        "peso = 0\n",
        "\n",
        "altura = 0\n",
        "\n",
        "contador = 0\n",
        "\n",
        "contador0 = 0\n",
        "\n",
        "contador1 = 1\n",
        "\n",
        "contador2 = 2\n",
        "\n",
        "contador3 = 3\n",
        "\n",
        "contador4 = 4"
      ],
      "execution_count": 147,
      "outputs": []
    },
    {
      "cell_type": "code",
      "metadata": {
        "id": "yuSJan_YvG0Q"
      },
      "source": [
        "for peso in dados[\"Peso (Kg)\"]:\n",
        "  lista_peso.append(peso)\n",
        "\n",
        "for altura in dados[\"Altura (cm)\"]:\n",
        "  lista_altura.append((altura/100))"
      ],
      "execution_count": 148,
      "outputs": []
    },
    {
      "cell_type": "code",
      "metadata": {
        "id": "J9wSP4-T-H1D"
      },
      "source": [
        "while contador != 29:\n",
        "  imc.append(lista_peso[contador] / (lista_altura[contador] * lista_altura[contador]))\n",
        "  contador += 1"
      ],
      "execution_count": 149,
      "outputs": []
    },
    {
      "cell_type": "code",
      "metadata": {
        "id": "WLPBJWIgGhPc"
      },
      "source": [
        "while contador0 != 29:\n",
        "  if imc[contador0] < 18.5:\n",
        "    contador1 += 1\n",
        "    contador0 += 1\n",
        "\n",
        "  elif imc[contador0] >= 18.5 and imc[contador0] < 24.9:\n",
        "    contador2 += 1\n",
        "    contador0 += 1\n",
        "\n",
        "  elif imc[contador0] >= 24.9 and imc[contador0] <= 30:\n",
        "    contador3 += 1\n",
        "    contador0 += 1\n",
        "\n",
        "  elif imc[contador0] > 30:\n",
        "    contador4 += 1\n",
        "    contador0 += 1\n",
        "\n",
        "receptor_porcentagem.append(contador1)\n",
        "receptor_porcentagem.append(contador2)\n",
        "receptor_porcentagem.append(contador3)\n",
        "receptor_porcentagem.append(contador4)"
      ],
      "execution_count": 152,
      "outputs": []
    },
    {
      "cell_type": "code",
      "metadata": {
        "colab": {
          "base_uri": "https://localhost:8080/",
          "height": 264
        },
        "id": "hMHHO0gWKeHl",
        "outputId": "8ca4d31e-add5-4bd7-d267-790220994517"
      },
      "source": [
        "import matplotlib.pyplot as plot\n",
        "plot.title(\"Porcentagem do IMC das Pessoas\")\n",
        "plot.axis(\"equal\")\n",
        "plot.pie(receptor_porcentagem, labels = situacao_corpo, autopct=\"%.1f%%\")\n",
        "plot.show()"
      ],
      "execution_count": 158,
      "outputs": [
        {
          "output_type": "display_data",
          "data": {
            "image/png": "[encoded data removed]",
            "text/plain": [
              "<Figure size 432x288 with 1 Axes>"
            ]
          },
          "metadata": {}
        }
      ]
    }
  ]
}